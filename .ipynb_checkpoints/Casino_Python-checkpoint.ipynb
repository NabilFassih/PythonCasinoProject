{
 "cells": [
  {
   "cell_type": "markdown",
   "metadata": {},
   "source": [
    "# Faîtes vos jeux!"
   ]
  },
  {
   "cell_type": "markdown",
   "metadata": {},
   "source": [
    "Dans cette série de notebook, nous allons coder des jeux de casino en python."
   ]
  },
  {
   "cell_type": "markdown",
   "metadata": {},
   "source": [
    "### 1ère Partie"
   ]
  },
  {
   "cell_type": "markdown",
   "metadata": {},
   "source": [
    "### Poker éléctronique\n",
    "\n",
    "##### Règles du jeu:\n",
    "\n",
    "Le poker éléctronique est un jeu de type machine à sous,\n",
    "le joueur choisi sa mise, appui sur le bouton \"jouer\" et la machine lui propose un jeu de 5 cartes tirés d'un jeu de 52 cartes.\n",
    "Le jouer peut alors choisir des cartes à garder, il peut choisir d'en garder 0, 1, 2, 3 ou 4, puis rappuie sur le bouton. Selon le choix du joueur, la machine tire de nouveaux le nombre de carte qu'il faut pour constituer le tirage final. \n",
    "Enfin le joueur récupère ses gains qui correspondent au montant de sa mise multiplié par le gain correspondant à la combinaison obtenue sur le tirage final. Si il n'a aucune combinaison il perd sa mise.\n",
    "\n",
    "##### Combinaison et gains:\n",
    "\n",
    "-Paire : 2 cartes identiques => 1 fois la mise\n",
    "\n",
    "-Double Paire : deux fois 2 cartes identiques => 2 fois la mise\n",
    "\n",
    "-Brelan : 3 cartes identiques => 3 fois la mise\n",
    "\n",
    "-Quinte : 5 cartes identiques => 4 fois la mise\n",
    "\n",
    "-Flush : 5 cartes de la même couleur => 6 fois la mise\n",
    "\n",
    "-Full : 1 paire + 1 brelan => 9 fois la mise\n",
    "\n",
    "-Carré : 4 cartes identiques => 25 fois la mise\n",
    "\n",
    "-Quinte Flush : 1 quinte de la même couleur => 50 fois la mise\n",
    "\n",
    "-Quinte Flush Royale : 1 quinte flush avec as, roi, dame, valet, 10 => 250 fois la mise."
   ]
  },
  {
   "cell_type": "code",
   "execution_count": 2,
   "metadata": {},
   "outputs": [],
   "source": [
    "import pandas as pd\n",
    "import random\n",
    "from collections import Counter"
   ]
  },
  {
   "cell_type": "markdown",
   "metadata": {},
   "source": [
    "Le deck represente le jeu de carte : \n",
    "\n",
    "chaque carte est représentée par :\n",
    "    \n",
    "- un chiffre ou un lettre majuscule qui représente la valeur de la carte ( J = Valet, Q = Dame, K = Roi, A = As )\n",
    "- une lettre minuscule qui représente la couleur ( h = Hearts = Coeur, d = Diamonds = Carreau, c = Clubs = Trèfle, s = Spades = Pique )"
   ]
  },
  {
   "cell_type": "code",
   "execution_count": 3,
   "metadata": {},
   "outputs": [],
   "source": [
    "deck = ['2-h','3-h','4-h','5-h','6-h','7-h','8-h','9-h','10-h','J-h','Q-h','K-h','A-h','2-d','3-d','4-d','5-d','6-d','7-d','8-d','9-d','10-d','J-d','Q-d','K-d','A-d','2-c','3-c','4-c','5-c','6-c','7-c','8-c','9-c','10-c','J-c','Q-c','K-c','A-c','2-s','3-s','4-s','5-s','6-s','7-s','8-s','9-s','10-s','J-s','Q-s','K-s','A-s']"
   ]
  },
  {
   "cell_type": "code",
   "execution_count": 4,
   "metadata": {},
   "outputs": [
    {
     "data": {
      "text/plain": [
       "52"
      ]
     },
     "execution_count": 4,
     "metadata": {},
     "output_type": "execute_result"
    }
   ],
   "source": [
    "len(deck)"
   ]
  },
  {
   "cell_type": "markdown",
   "metadata": {},
   "source": [
    "Créer une fonction, nommée premier_tirage, permettant de faire un tirage aléatoire sans remise dans le deck.\n",
    "Les cartes tirées devront être retirées du deck pour le deuxième tirage.\n",
    "La fonction devra retourner le tirage, et le nouveau deck. "
   ]
  },
  {
   "cell_type": "code",
   "execution_count": 5,
   "metadata": {},
   "outputs": [],
   "source": [
    "def premier_tirage(deck):\n",
    "    tirage = []\n",
    "    for i in range(5):\n",
    "        tirage.append(deck.pop(random.randint(0, len(deck) - 1)))\n",
    "        \n",
    "    return tirage"
   ]
  },
  {
   "cell_type": "markdown",
   "metadata": {},
   "source": [
    "Créer une fonction, nommée choix_carte, qui prend un tirage en entrée, et permet au joueur de choisir quelle carte il garde ou non pour le deuxième tirage. La fonction devra retourner le jeu avec les carte que le joueur aura garder."
   ]
  },
  {
   "cell_type": "code",
   "execution_count": 6,
   "metadata": {},
   "outputs": [],
   "source": [
    "def choix_carte(tirage):\n",
    "\n",
    "    print(\"Veuillez choisir les cartes à garder en entrant l'index de chaque carte une après l'autre.\")\n",
    "    print(\"Veuillez saisir '0', une fois le choix fini.\")\n",
    "    print(\"0: J'ai fais mon choix !\")\n",
    "    for i, carte in enumerate(tirage):\n",
    "        print(str(i+1) + \": \" + carte)\n",
    "\n",
    "\n",
    "    carteChoisi = []\n",
    "    for carte in tirage:\n",
    "        print(\"Votre choix: \")\n",
    "        choix = int(input())\n",
    "        if (choix != 0):\n",
    "            carteChoisi.append(tirage[choix-1])\n",
    "        else:\n",
    "            break\n",
    "\n",
    "    print(\"Vous avez choisi : \")\n",
    "    for carte in carteChoisi:\n",
    "        print(carte)\n",
    "\n",
    "    return carteChoisi\n",
    "\n"
   ]
  },
  {
   "cell_type": "markdown",
   "metadata": {},
   "source": [
    "Créer un fonction, nommée deuxieme_tirage, qui permet, à partir du jeu obtenu avec la fonction choix_carte et le deck obtenu avec la fonction premier tirage, de constituer le tirage final du joueur. La fonction devra retourner le tirage final."
   ]
  },
  {
   "cell_type": "code",
   "execution_count": 7,
   "metadata": {},
   "outputs": [],
   "source": [
    "def deuxieme_tirage(carteChoisi):\n",
    "    for i in range(5 - len(carteChoisi)):\n",
    "        carteChoisi.append(deck.pop(random.randint(0, len(deck) - 1)))\n",
    "\n",
    "    return carteChoisi"
   ]
  },
  {
   "cell_type": "markdown",
   "metadata": {},
   "source": [
    "Grâce aux fonctions créées précédemment, faire un fonction nommée machine, qui fait le premier tirage, l'affiche, propose au joueur les cartes afin de choisir celles à garder, puis fait le deuxième tirage et l'affiche et le retourne."
   ]
  },
  {
   "cell_type": "code",
   "execution_count": 9,
   "metadata": {},
   "outputs": [],
   "source": [
    "def machine(deck):\n",
    "    tirage = premier_tirage(deck)\n",
    "    print(tirage)\n",
    "    carteChoisi = choix_carte(tirage)\n",
    "    jeu = deuxieme_tirage(carteChoisi)\n",
    "    print(jeu)\n",
    "    return jeu"
   ]
  },
  {
   "cell_type": "markdown",
   "metadata": {},
   "source": [
    "Trouver un moyen de tester un tirage pour voir si il correspond à une des combinaisons gagnantes."
   ]
  },
  {
   "cell_type": "code",
   "execution_count": 10,
   "metadata": {},
   "outputs": [],
   "source": [
    "def decompose_jeu(tirage):\n",
    "    dic = {}\n",
    "    keys = [1,2,3,4,5]\n",
    "    valeur = []\n",
    "    couleur = []\n",
    "    for i,k in zip(tirage,keys):\n",
    "        dic[k] = i.split('-')\n",
    "    for key in dic.keys():\n",
    "        valeur.append(dic[key][0])\n",
    "        couleur.append(dic[key][1])\n",
    "    return valeur, couleur\n",
    "\n",
    "def convert_carte(liste):\n",
    "    for e,i in zip(liste, range(0, 5)):\n",
    "        try:\n",
    "            liste[i] = int(e)\n",
    "        except:\n",
    "            if e == \"J\":\n",
    "               liste[i] = 11\n",
    "            elif e == \"Q\":\n",
    "                liste[i] = 12\n",
    "            elif e == \"K\":\n",
    "                liste[i] = 13\n",
    "            elif e == \"A\":\n",
    "                liste[i] = 14\n",
    "            else:\n",
    "                continue\n",
    "    return liste\n",
    "\n",
    "def isPair(valeur):\n",
    "    counter = Counter(valeur)\n",
    "    for i in counter.values():\n",
    "        if i == 2:\n",
    "            return True\n",
    "    return False\n",
    "\n",
    "def isTwoPair(valeur):\n",
    "    cpt = 0\n",
    "    counter = Counter(valeur)\n",
    "    for i in counter.values():\n",
    "        if i == 2:\n",
    "            cpt += 1\n",
    "\n",
    "    if cpt == 2:\n",
    "        return True\n",
    "    else:\n",
    "        return False\n",
    "\n",
    "def isBrelan(valeur):\n",
    "    counter = Counter(valeur)\n",
    "    for i in counter.values():\n",
    "        if i == 3:\n",
    "            return True\n",
    "    return False\n",
    "\n",
    "def isQuinte(valeur):\n",
    "    liste = sorted(valeur)\n",
    "    if int(liste[0]) + 4 == int(liste[4]):\n",
    "        return True\n",
    "    else:\n",
    "        return False\n",
    "def isFlush(couleur):\n",
    "    if couleur.count(couleur[0]) == 5:\n",
    "        return True\n",
    "    else:\n",
    "        return False\n",
    "\n",
    "def isFull(valeur):\n",
    "    if (isPair(valeur) and isBrelan(valeur)):\n",
    "        return True\n",
    "    else:\n",
    "        return False\n",
    "\n",
    "def isCarre(valeur):\n",
    "    counter = Counter(valeur)\n",
    "    for i in counter.values():\n",
    "        if i == 4:\n",
    "            return True\n",
    "    return False\n",
    "\n",
    "def isQuinteFull(valeur, couleur):\n",
    "    if isQuinte(valeur) and isFlush(couleur):\n",
    "        return True\n",
    "    else:\n",
    "        return False\n",
    "\n",
    "def isQuinteFlushRoyale(valeur, couleur):\n",
    "    if isQuinteFull(valeur, couleur) and valeur == [10, 11, 12, 13, 14]:\n",
    "        return True\n",
    "    else:\n",
    "        return False\n",
    "\n",
    "def isFlush(couleur):\n",
    "    if couleur.count(couleur[0]) == 5:\n",
    "        return True\n",
    "    else:\n",
    "        return False\n",
    "\n",
    "def isFull(valeur):\n",
    "    if (isPair(valeur) and isBrelan(valeur)):\n",
    "        return True\n",
    "    else:\n",
    "        return False\n",
    "\n",
    "def isCarre(valeur):\n",
    "    counter = Counter(valeur)\n",
    "    for i in counter.values():\n",
    "        if i == 4:\n",
    "            return True\n",
    "    return False\n",
    "\n",
    "def isQuinteFull(valeur, couleur):\n",
    "    if isQuinte(valeur) and isFlush(couleur):\n",
    "        return True\n",
    "    else:\n",
    "        return False\n",
    "\n",
    "def isQuinteFlushRoyale(valeur, couleur):\n",
    "    if isQuinteFull(valeur, couleur) and valeur == [10, 11, 12, 13, 14]:\n",
    "        return True\n",
    "    else:\n",
    "        return False"
   ]
  },
  {
   "cell_type": "markdown",
   "metadata": {},
   "source": [
    "Créer une fonction permettant de calculer les gains et d'afficher le résultat au joueur."
   ]
  },
  {
   "cell_type": "code",
   "execution_count": 14,
   "metadata": {},
   "outputs": [],
   "source": [
    "def gains(mise, jeu):\n",
    "    valeur, couleur = decompose_jeu(jeu)\n",
    "\n",
    "    valeur = convert_carte(valeur)\n",
    "\n",
    "    if isQuinteFlushRoyale(valeur, couleur):\n",
    "        gain = mise * 250\n",
    "        print(\"Félicitation, Vous avez obtenu une Quinte Flush Royale\")\n",
    "        print(\"Vous avez gagnez: \" + str(gain) + \"€\")\n",
    "        print(\"Votre solde: \")\n",
    "        return gain\n",
    "    elif isQuinteFull(valeur, couleur):\n",
    "        gain = mise * 50\n",
    "        print(\"Félicitation, Vous avez obtenu une Quinte Full\")\n",
    "        print(\"Vous avez gagnez: \" + str(gain) + \"€\")\n",
    "        print(\"Votre solde: \")\n",
    "        return gain\n",
    "    elif isCarre(valeur):\n",
    "        gain = mise * 25\n",
    "        print(\"Félicitation, Vous avez obtenu un Carré\")\n",
    "        print(\"Vous avez gagnez: \" + str(gain) + \"€\")\n",
    "        print(\"Votre solde: \")\n",
    "        return gain\n",
    "    elif isFull(valeur):\n",
    "        gain = mise * 9\n",
    "        print(\"Félicitation, Vous avez obtenu un Full\")\n",
    "        print(\"Vous avez gagnez: \" + str(gain) + \"€\")\n",
    "        print(\"Votre solde: \")\n",
    "        return gain\n",
    "    elif isFlush(couleur):\n",
    "        gain = mise * 6\n",
    "        print(\"Félicitation, Vous avez obtenu un Flush\")\n",
    "        print(\"Vous avez gagnez: \" + str(gain) + \"€\")\n",
    "        print(\"Votre solde: \")\n",
    "        return gain\n",
    "    elif isQuinte(valeur):\n",
    "        gain = mise * 4\n",
    "        print(\"Félicitation, Vous avez obtenu une Quinte\")\n",
    "        print(\"Vous avez gagnez: \" + str(gain) + \"€\")\n",
    "        print(\"Votre solde: \")\n",
    "        return gain\n",
    "    elif isBrelan(valeur):\n",
    "        gain = mise * 3\n",
    "        print(\"Félicitation, Vous avez obtenu un Brelan\")\n",
    "        print(\"Vous avez gagnez: \" + str(gain) + \"€\")\n",
    "        print(\"Votre solde: \")\n",
    "        return gain\n",
    "    elif isTwoPair(valeur):\n",
    "        gain = mise * 2\n",
    "        print(\"Félicitation, Vous avez obtenu Deux Paires\")\n",
    "        print(\"Vous avez gagnez: \" + str(gain) + \"€\")\n",
    "        print(\"Votre solde: \")\n",
    "        return gain\n",
    "    elif isPair(valeur):\n",
    "        print(\"Félicitation, Vous avez obtenu une Paire\")\n",
    "        print(\"Vous avez recuperé votre mise: \" + str(mise) + \"€\")\n",
    "        print(\"Votre solde: \")\n",
    "        return mise\n",
    "    else:\n",
    "        print(\"Dommage, vous avez perdu votre mise de: \" + str(mise) + \"€\")\n",
    "        return 0\n"
   ]
  },
  {
   "cell_type": "markdown",
   "metadata": {},
   "source": [
    "Créer une fonction, nommée partie, qui prend en entrée une mise et une bankroll (total de l'argent disponible pour jouer), perment de faire le tirage, et calcule la nouvelle bankroll en fonction des gains. La fonction devra retourner le resultat de la partie et la nouvelle bankroll."
   ]
  },
  {
   "cell_type": "code",
   "execution_count": 15,
   "metadata": {},
   "outputs": [],
   "source": [
    "def partie(mise, bankroll):\n",
    "    if bankroll >= mise:\n",
    "        bankroll -= mise\n",
    "        jeu = machine(deck)\n",
    "        total = gains(mise, jeu)\n",
    "        bankroll += total\n",
    "        return bankroll\n",
    "    else:\n",
    "        print(\"Votre mise \" + str(mise) + \"€ est trop élevé\")\n",
    "        return"
   ]
  },
  {
   "cell_type": "markdown",
   "metadata": {},
   "source": [
    "Créer une fonction, nommée video_poker, qui permet au joueur \"d'inserer de l'argent\" (bankroll), de choisir la mise puis de jouer jusqu'a avoir tout perdu (ou pas si il a de la chance!)"
   ]
  },
  {
   "cell_type": "code",
   "execution_count": 16,
   "metadata": {},
   "outputs": [],
   "source": [
    "def video_poker():\n",
    "    print(\"Veuillez indiquer le montant de la bankroll : \")\n",
    "    bankroll = int(input())\n",
    "    while bankroll >= 0:\n",
    "        print(\"Quelle est votre mise ?\")\n",
    "        mise = int(input())\n",
    "        bankroll = partie(mise, bankroll)\n",
    "        print(str(bankroll))\n",
    "    print(\"Partie terminé\")"
   ]
  },
  {
   "cell_type": "markdown",
   "metadata": {},
   "source": [
    "Reprenez le notebook en scripts, et executez votre programme dans votre terminal."
   ]
  },
  {
   "cell_type": "code",
   "execution_count": null,
   "metadata": {},
   "outputs": [],
   "source": []
  }
 ],
 "metadata": {
  "kernelspec": {
   "display_name": "Python 3",
   "language": "python",
   "name": "python3"
  },
  "language_info": {
   "codemirror_mode": {
    "name": "ipython",
    "version": 3
   },
   "file_extension": ".py",
   "mimetype": "text/x-python",
   "name": "python",
   "nbconvert_exporter": "python",
   "pygments_lexer": "ipython3",
   "version": "3.8.3"
  }
 },
 "nbformat": 4,
 "nbformat_minor": 4
}
